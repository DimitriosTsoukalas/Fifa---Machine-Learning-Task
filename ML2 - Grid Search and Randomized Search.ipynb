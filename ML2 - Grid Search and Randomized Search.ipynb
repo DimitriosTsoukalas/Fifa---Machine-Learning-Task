{
 "cells": [
  {
   "cell_type": "markdown",
   "metadata": {},
   "source": [
    "# ML2 - Grid Search and Randomized Search"
   ]
  },
  {
   "cell_type": "markdown",
   "metadata": {},
   "source": [
    "## Part 1: Import"
   ]
  },
  {
   "cell_type": "code",
   "execution_count": 1,
   "metadata": {},
   "outputs": [],
   "source": [
    "import numpy as np\n",
    "from sklearn.datasets import load_iris\n",
    "iris = load_iris()\n",
    "X,y = iris.data, iris.target\n"
   ]
  },
  {
   "cell_type": "markdown",
   "metadata": {},
   "source": [
    "## Part 2: Check the classifier\n",
    "\n",
    "The KNearest classifier has different parameters as we can see below."
   ]
  },
  {
   "cell_type": "code",
   "execution_count": 8,
   "metadata": {},
   "outputs": [],
   "source": [
    "from sklearn.neighbors import KNeighborsClassifier\n",
    "\n",
    "classifier = KNeighborsClassifier (n_neighbors=5,\n",
    "                                   weights=\"uniform\",\n",
    "                                   metric=\"minkowski\",\n",
    "                                   p=2)"
   ]
  },
  {
   "cell_type": "markdown",
   "metadata": {},
   "source": [
    "## Part 3: Define the grid\n",
    "\n",
    "Below, there are a sum of parameters that will be used in different combinations in order to check the results."
   ]
  },
  {
   "cell_type": "code",
   "execution_count": 15,
   "metadata": {},
   "outputs": [
    {
     "name": "stdout",
     "output_type": "stream",
     "text": [
      "Number of tested models: 40\n"
     ]
    }
   ],
   "source": [
    "#Create the grid with the different parameters to be tested\n",
    "grid = {\"n_neighbors\": range(1,11), \n",
    "        \"weights\": [\"uniform\",\"distance\"],\n",
    "       \"p\":[1,2]}\n",
    "score_metric = \"accuracy\"\n",
    "#Print the total amount of models\n",
    "print (\"Number of tested models: %i\" %np.prod([len(grid[element]) for element in grid]))"
   ]
  },
  {
   "cell_type": "markdown",
   "metadata": {},
   "source": [
    "## Part 4: Identifying the baseline\n",
    "\n",
    "The baseline shows what is the accuracy of the algorithm by simply applying a cross validation test with the given parameters."
   ]
  },
  {
   "cell_type": "code",
   "execution_count": 16,
   "metadata": {},
   "outputs": [
    {
     "name": "stdout",
     "output_type": "stream",
     "text": [
      "Baseline with default parameters: 0.967\n"
     ]
    }
   ],
   "source": [
    "from sklearn.model_selection import cross_val_score\n",
    "\n",
    "print (\"Baseline with default parameters: %.3f\" % np.mean(cross_val_score(classifier,\n",
    "                                                                          X,\n",
    "                                                                          y,\n",
    "                                                                          cv=10,\n",
    "                                                                          scoring=score_metric,\n",
    "                                                                          n_jobs=1)))"
   ]
  },
  {
   "cell_type": "markdown",
   "metadata": {},
   "source": [
    "Although it does not make sense to try to find a better accuracy with accuracy of 0.96, the following code will find where is this answer located (in what parameters)."
   ]
  },
  {
   "cell_type": "markdown",
   "metadata": {},
   "source": [
    "## Part 5: Fit the model with the different parameters"
   ]
  },
  {
   "cell_type": "code",
   "execution_count": 45,
   "metadata": {},
   "outputs": [
    {
     "data": {
      "text/plain": [
       "GridSearchCV(cv=10, error_score='raise-deprecating',\n",
       "       estimator=KNeighborsClassifier(algorithm='auto', leaf_size=30, metric='minkowski',\n",
       "           metric_params=None, n_jobs=None, n_neighbors=5, p=2,\n",
       "           weights='uniform'),\n",
       "       fit_params=None, iid='warn', n_jobs=1,\n",
       "       param_grid={'n_neighbors': range(1, 11), 'weights': ['uniform', 'distance'], 'p': [1, 2]},\n",
       "       pre_dispatch='2*n_jobs', refit=True, return_train_score='warn',\n",
       "       scoring='accuracy', verbose=0)"
      ]
     },
     "execution_count": 45,
     "metadata": {},
     "output_type": "execute_result"
    }
   ],
   "source": [
    "from sklearn.model_selection import GridSearchCV\n",
    "search = GridSearchCV(estimator = classifier,\n",
    "                     param_grid=grid,\n",
    "                     scoring=score_metric,\n",
    "                     n_jobs=1,\n",
    "                     refit=True,\n",
    "                     cv=10)\n",
    "\n",
    "search.fit(X,y)"
   ]
  },
  {
   "cell_type": "markdown",
   "metadata": {},
   "source": [
    "## Part 6: Identify the best model"
   ]
  },
  {
   "cell_type": "code",
   "execution_count": 23,
   "metadata": {},
   "outputs": [
    {
     "name": "stdout",
     "output_type": "stream",
     "text": [
      "Best paramaters: {'n_neighbors': 9, 'p': 1, 'weights': 'uniform'}\n",
      "CV Accuracy of best parameters: 0.973\n"
     ]
    }
   ],
   "source": [
    "print (\"Best paramaters: %s\" % search.best_params_)\n",
    "print (\"CV Accuracy of best parameters: %.3f\" % search.best_score_)"
   ]
  },
  {
   "cell_type": "markdown",
   "metadata": {},
   "source": [
    "## Part 7: Visualization"
   ]
  },
  {
   "cell_type": "code",
   "execution_count": 46,
   "metadata": {},
   "outputs": [],
   "source": [
    "from sklearn.model_selection import validation_curve\n",
    "\n",
    "train_scores, test_scores = validation_curve(\n",
    "    KNeighborsClassifier(weights=\"uniform\",\n",
    "    metric=\"minkowski\",\n",
    "    p=1),\n",
    "    X,\n",
    "    y,\n",
    "    \"n_neighbors\",\n",
    "    param_range=range(1,11),\n",
    "    cv=10,\n",
    "    scoring=\"accuracy\")"
   ]
  },
  {
   "cell_type": "code",
   "execution_count": 47,
   "metadata": {},
   "outputs": [
    {
     "data": {
      "image/png": "[encoded data removed]",
      "text/plain": [
       "<Figure size 1152x432 with 1 Axes>"
      ]
     },
     "metadata": {
      "needs_background": "light"
     },
     "output_type": "display_data"
    }
   ],
   "source": [
    "mean_train = np.mean(train_scores,axis=1)\n",
    "mean_test = np.mean(test_scores,axis=1)\n",
    "\n",
    "import matplotlib.pyplot as plt\n",
    "plt.figure(figsize=(16,6))\n",
    "\n",
    "plt.plot(range(1,11),mean_train,\"ro--\",label=\"Training\")\n",
    "plt.plot(range(1,11),mean_test,\"bo--\",label=\"Cross Validation\")\n",
    "\n",
    "plt.grid()\n",
    "plt.xlabel(\"Number of Neighbors\",fontsize=20)\n",
    "plt.ylabel(\"Accuracy\",fontsize=20)\n",
    "plt.legend(loc=\"upper right\",numpoints=1,fontsize=15)\n",
    "plt.show()"
   ]
  },
  {
   "cell_type": "markdown",
   "metadata": {},
   "source": [
    "## Part 8: Randomized search\n",
    "\n",
    "The Random search does the same thing as the Grid Search but we define the number of randomized parameters we can pick. Of course, at any time we can check parameters we are using for the experiment."
   ]
  },
  {
   "cell_type": "code",
   "execution_count": 63,
   "metadata": {},
   "outputs": [
    {
     "data": {
      "text/plain": [
       "RandomizedSearchCV(cv=10, error_score='raise-deprecating',\n",
       "          estimator=KNeighborsClassifier(algorithm='auto', leaf_size=30, metric='minkowski',\n",
       "           metric_params=None, n_jobs=None, n_neighbors=5, p=2,\n",
       "           weights='uniform'),\n",
       "          fit_params=None, iid='warn', n_iter=10, n_jobs=1,\n",
       "          param_distributions={'n_neighbors': range(1, 11), 'weights': ['uniform', 'distance'], 'p': [1, 2]},\n",
       "          pre_dispatch='2*n_jobs', random_state=None, refit=True,\n",
       "          return_train_score='warn', scoring='accuracy', verbose=0)"
      ]
     },
     "execution_count": 63,
     "metadata": {},
     "output_type": "execute_result"
    }
   ],
   "source": [
    "from sklearn.model_selection import RandomizedSearchCV\n",
    "random_search = RandomizedSearchCV(estimator = classifier, \n",
    "                             param_distributions=grid,\n",
    "                             n_iter=10,\n",
    "                             scoring=score_metric,\n",
    "                             n_jobs=1,\n",
    "                             refit=True,\n",
    "                             cv=10,)\n",
    "\n",
    "random_search.fit(X,y)"
   ]
  },
  {
   "cell_type": "code",
   "execution_count": 64,
   "metadata": {},
   "outputs": [
    {
     "name": "stdout",
     "output_type": "stream",
     "text": [
      "Best paramaters: {'weights': 'uniform', 'p': 2, 'n_neighbors': 9}\n",
      "CV Accuracy of best parameters: 0.973\n"
     ]
    }
   ],
   "source": [
    "print (\"Best paramaters: %s\" % random_search.best_params_)\n",
    "print (\"CV Accuracy of best parameters: %.3f\" % random_search.best_score_)"
   ]
  }
 ],
 "metadata": {
  "kernelspec": {
   "display_name": "Python 3",
   "language": "python",
   "name": "python3"
  },
  "language_info": {
   "codemirror_mode": {
    "name": "ipython",
    "version": 3
   },
   "file_extension": ".py",
   "mimetype": "text/x-python",
   "name": "python",
   "nbconvert_exporter": "python",
   "pygments_lexer": "ipython3",
   "version": "3.7.2"
  }
 },
 "nbformat": 4,
 "nbformat_minor": 2
}
